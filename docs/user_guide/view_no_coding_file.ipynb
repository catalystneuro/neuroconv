{
 "cells": [
  {
   "cell_type": "code",
   "execution_count": null,
   "id": "86dec53d-00ac-4cdc-9c84-de8d437513d5",
   "metadata": {},
   "outputs": [],
   "source": [
    "import nwbwidgets\n",
    "import pynwb"
   ]
  },
  {
   "cell_type": "code",
   "execution_count": null,
   "id": "8e67b1d2-dafa-47f6-b35a-ca735ea39e5e",
   "metadata": {},
   "outputs": [],
   "source": [
    "nwbfile_path = \"my_example_spikeglx_data_no_coding.nwb\""
   ]
  },
  {
   "cell_type": "code",
   "execution_count": null,
   "id": "cfed4154-cc2c-46d0-99fc-a7bea8a75883",
   "metadata": {},
   "outputs": [],
   "source": [
    "io = pynwb.NWBHDF5IO(path=nwbfile_path, mode=\"r\")\n",
    "nwbfile = io.read()\n",
    "nwbwidgets.nwb2widget(nwbfile)"
   ]
  },
  {
   "cell_type": "code",
   "execution_count": null,
   "id": "348459d6-79fe-490c-8f21-b0400a3c50e6",
   "metadata": {},
   "outputs": [],
   "source": [
    "io.close()"
   ]
  },
  {
   "cell_type": "code",
   "execution_count": null,
   "id": "13b80f6a-9ffe-4ade-81a3-8bb7874a9ecb",
   "metadata": {},
   "outputs": [],
   "source": []
  }
 ],
 "metadata": {
  "kernelspec": {
   "display_name": "Python 3 (ipykernel)",
   "language": "python",
   "name": "python3"
  },
  "language_info": {
   "codemirror_mode": {
    "name": "ipython",
    "version": 3
   },
   "file_extension": ".py",
   "mimetype": "text/x-python",
   "name": "python",
   "nbconvert_exporter": "python",
   "pygments_lexer": "ipython3",
   "version": "3.9.10"
  }
 },
 "nbformat": 4,
 "nbformat_minor": 5
}
