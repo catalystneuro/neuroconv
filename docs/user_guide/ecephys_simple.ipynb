{
 "cells": [
  {
   "cell_type": "markdown",
   "id": "e2d03c90-6a0e-4b43-afde-8f5035e8489e",
   "metadata": {},
   "source": [
    "# Begin by importing the necessary packages..."
   ]
  },
  {
   "cell_type": "code",
   "execution_count": 18,
   "id": "36dd0524-fa49-4e32-9301-0aae5bbbb532",
   "metadata": {},
   "outputs": [],
   "source": [
    "import pynwb\n",
    "\n",
    "import neuroconv"
   ]
  },
  {
   "cell_type": "markdown",
   "id": "ad4ec7e5-fb6d-4870-8f44-98d0f5e14d5f",
   "metadata": {},
   "source": [
    "# Setup some file paths to point to example SpikeGLX/Neuropixels data...\n",
    "\n",
    "### The default path assumes you are running this notebook on the DANDIHub platform; adjust appropriately if running on a local device"
   ]
  },
  {
   "cell_type": "code",
   "execution_count": 23,
   "id": "203a5529-a77e-4d82-ab90-16d94260baf3",
   "metadata": {},
   "outputs": [],
   "source": [
    "spikeglx_file_path = \"/shared/catalystneuro/ephy_testing_data/spikeglx/Noise4Sam_g0/Noise4Sam_g0_imec0/Noise4Sam_g0_t0.imec0.ap.bin\"\n",
    "\n",
    "stub_path = \"/home/jovyan/my_example_stubbed_spikeglx_data.nwb\"\n",
    "nwbfile_path = \"/home/jovyan/my_example_spikeglx_data.nwb\""
   ]
  },
  {
   "cell_type": "markdown",
   "id": "3f9f07a4-64df-4482-99f5-6f3ee8b3248d",
   "metadata": {},
   "source": [
    "# Define the DataInterface and automatically extract metadata..."
   ]
  },
  {
   "cell_type": "code",
   "execution_count": 11,
   "id": "d3573ea4-2bea-41da-8fbb-3b6a648faa81",
   "metadata": {},
   "outputs": [],
   "source": [
    "recording_interface = neuroconv.SpikeGLXRecordingInterface(file_path=spikeglx_file_path)"
   ]
  },
  {
   "cell_type": "code",
   "execution_count": 12,
   "id": "e08a4274-4be4-434d-8cc5-954f9a9a6ab9",
   "metadata": {},
   "outputs": [],
   "source": [
    "metadata = recording_interface.get_metadata()"
   ]
  },
  {
   "cell_type": "code",
   "execution_count": 13,
   "id": "c9d089df-ea1a-4756-b9ab-903fd073c419",
   "metadata": {},
   "outputs": [
    {
     "data": {
      "text/plain": [
       "{'Ecephys': {'Device': [{'name': 'Neuropixel-Imec',\n",
       "    'description': '{\"probe_type\": \"0\", \"probe_type_description\": \"NP1.0\", \"flex_part_number\": \"NP2_FLEX_0\", \"connected_base_station_part_number\": \"NP2_QBSC_00\"}',\n",
       "    'manufacturer': 'Imec'}],\n",
       "  'ElectrodeGroup': [{'name': 's0',\n",
       "    'description': 'a group representing shank s0',\n",
       "    'location': 'unknown',\n",
       "    'device': 'Neuropixel-Imec'}],\n",
       "  'Electrodes': [{'name': 'shank_electrode_number',\n",
       "    'description': '0-indexed channel within a shank.'},\n",
       "   {'name': 'group_name',\n",
       "    'description': 'Name of the ElectrodeGroup this electrode is a part of.'},\n",
       "   {'name': 'contact_shapes', 'description': 'The shape of the electrode'}],\n",
       "  'ElectricalSeries_raw': {'name': 'ElectricalSeries_raw',\n",
       "   'description': 'Raw acquisition traces for the high-pass (ap) SpikeGLX data.'}},\n",
       " 'NWBFile': {'session_start_time': '2020-11-03 10:35:10'}}"
      ]
     },
     "execution_count": 13,
     "metadata": {},
     "output_type": "execute_result"
    }
   ],
   "source": [
    "metadata"
   ]
  },
  {
   "cell_type": "markdown",
   "id": "3f299b4e-00e7-4852-b19d-7e30e4f1b177",
   "metadata": {},
   "source": [
    "# ... run a 'stubbed' conversion just to ensure everything is working properly..."
   ]
  },
  {
   "cell_type": "code",
   "execution_count": 24,
   "id": "826832a8-5804-4840-82e6-0be0aa09d77c",
   "metadata": {},
   "outputs": [
    {
     "name": "stderr",
     "output_type": "stream",
     "text": [
      "/opt/conda/lib/python3.9/site-packages/pynwb/file.py:1100: UserWarning: Date is missing timezone information. Updating to local timezone.\n",
      "  warn(\"Date is missing timezone information. Updating to local timezone.\")\n"
     ]
    },
    {
     "name": "stdout",
     "output_type": "stream",
     "text": [
      "NWB file saved at /home/jovyan/my_example_stubbed_spikeglx_data.nwb!\n"
     ]
    }
   ],
   "source": [
    "recording_interface.run_conversion(nwbfile_path=stub_path, metadata=metadata, stub_test=True)"
   ]
  },
  {
   "cell_type": "markdown",
   "id": "202791f5-ef1e-4fd4-8faf-592b29500423",
   "metadata": {},
   "source": [
    "# ...check the file is able to be opened and looks OK..."
   ]
  },
  {
   "cell_type": "code",
   "execution_count": 25,
   "id": "51532168-d800-4e85-9d4b-ad3f98ea8b2f",
   "metadata": {},
   "outputs": [
    {
     "name": "stdout",
     "output_type": "stream",
     "text": [
      "root pynwb.file.NWBFile at 0x139745818614656\n",
      "Fields:\n",
      "  acquisition: {\n",
      "    ElectricalSeries_raw <class 'pynwb.ecephys.ElectricalSeries'>\n",
      "  }\n",
      "  devices: {\n",
      "    Neuropixel-Imec <class 'pynwb.device.Device'>\n",
      "  }\n",
      "  electrode_groups: {\n",
      "    s0 <class 'pynwb.ecephys.ElectrodeGroup'>\n",
      "  }\n",
      "  electrodes: electrodes <class 'hdmf.common.table.DynamicTable'>\n",
      "  file_create_date: [datetime.datetime(2022, 7, 21, 17, 35, 43, 239391, tzinfo=tzlocal())]\n",
      "  identifier: 5585c678-fac4-480e-92a4-33d7cb8aa14e\n",
      "  session_description: no description\n",
      "  session_start_time: 2020-11-03 10:35:10+00:00\n",
      "  timestamps_reference_time: 2020-11-03 10:35:10+00:00\n",
      "\n",
      "ElectricalSeries_raw pynwb.ecephys.ElectricalSeries at 0x139745818613648\n",
      "Fields:\n",
      "  comments: Generated from SpikeInterface::NwbRecordingExtractor\n",
      "  conversion: 2.34375e-06\n",
      "  data: <HDF5 dataset \"data\": shape (100, 384), type \"<i2\">\n",
      "  description: Raw acquired data\n",
      "  electrodes: electrodes <class 'hdmf.common.table.DynamicTableRegion'>\n",
      "  offset: 0.0\n",
      "  rate: 30000.0\n",
      "  resolution: -1.0\n",
      "  starting_time: 0.0\n",
      "  starting_time_unit: seconds\n",
      "  unit: volts\n",
      "\n"
     ]
    }
   ],
   "source": [
    "with pynwb.NWBHDF5IO(path=stub_path, mode=\"r\") as io:\n",
    "    nwbfile = io.read()\n",
    "    print(nwbfile)\n",
    "    print(nwbfile.acquisition[\"ElectricalSeries_raw\"])"
   ]
  },
  {
   "cell_type": "markdown",
   "id": "a10484fd-3b69-4d41-ae59-caf3f53ea87f",
   "metadata": {},
   "source": [
    "# ... now we can run the entire conversion!"
   ]
  },
  {
   "cell_type": "code",
   "execution_count": 30,
   "id": "37ec1ece-7d83-4449-b708-64feb65da79c",
   "metadata": {},
   "outputs": [
    {
     "name": "stdout",
     "output_type": "stream",
     "text": [
      "NWB file saved at /home/jovyan/my_example_spikeglx_data.nwb!\n"
     ]
    }
   ],
   "source": [
    "recording_interface.run_conversion(nwbfile_path=nwbfile_path, metadata=metadata)"
   ]
  },
  {
   "cell_type": "code",
   "execution_count": 29,
   "id": "9138ae5c-678e-4262-b145-db13ad6f1dc3",
   "metadata": {},
   "outputs": [
    {
     "name": "stdout",
     "output_type": "stream",
     "text": [
      "root pynwb.file.NWBFile at 0x139745830601776\n",
      "Fields:\n",
      "  acquisition: {\n",
      "    ElectricalSeries_raw <class 'pynwb.ecephys.ElectricalSeries'>\n",
      "  }\n",
      "  devices: {\n",
      "    Neuropixel-Imec <class 'pynwb.device.Device'>\n",
      "  }\n",
      "  electrode_groups: {\n",
      "    s0 <class 'pynwb.ecephys.ElectrodeGroup'>\n",
      "  }\n",
      "  electrodes: electrodes <class 'hdmf.common.table.DynamicTable'>\n",
      "  file_create_date: [datetime.datetime(2022, 7, 21, 17, 3, 33, 669870, tzinfo=tzlocal())]\n",
      "  identifier: 144a29b4-acf6-451c-beef-579a6989f469\n",
      "  session_description: no description\n",
      "  session_start_time: 2020-11-03 10:35:10+00:00\n",
      "  timestamps_reference_time: 2020-11-03 10:35:10+00:00\n",
      "\n",
      "ElectricalSeries_raw pynwb.ecephys.ElectricalSeries at 0x139745820239088\n",
      "Fields:\n",
      "  comments: Generated from SpikeInterface::NwbRecordingExtractor\n",
      "  conversion: 2.34375e-06\n",
      "  data: <HDF5 dataset \"data\": shape (1155, 384), type \"<i2\">\n",
      "  description: Raw acquired data\n",
      "  electrodes: electrodes <class 'hdmf.common.table.DynamicTableRegion'>\n",
      "  offset: 0.0\n",
      "  rate: 30000.0\n",
      "  resolution: -1.0\n",
      "  starting_time: 0.0\n",
      "  starting_time_unit: seconds\n",
      "  unit: volts\n",
      "\n"
     ]
    }
   ],
   "source": [
    "with pynwb.NWBHDF5IO(path=nwbfile_path, mode=\"r\") as io:\n",
    "    nwbfile = io.read()\n",
    "    print(nwbfile)\n",
    "    print(nwbfile.acquisition[\"ElectricalSeries_raw\"])"
   ]
  },
  {
   "cell_type": "code",
   "execution_count": null,
   "id": "1df150c8-532e-4d31-9eb7-02cef78c7212",
   "metadata": {},
   "outputs": [],
   "source": []
  }
 ],
 "metadata": {
  "kernelspec": {
   "display_name": "Python 3 (ipykernel)",
   "language": "python",
   "name": "python3"
  },
  "language_info": {
   "codemirror_mode": {
    "name": "ipython",
    "version": 3
   },
   "file_extension": ".py",
   "mimetype": "text/x-python",
   "name": "python",
   "nbconvert_exporter": "python",
   "pygments_lexer": "ipython3",
   "version": "3.9.10"
  }
 },
 "nbformat": 4,
 "nbformat_minor": 5
}
