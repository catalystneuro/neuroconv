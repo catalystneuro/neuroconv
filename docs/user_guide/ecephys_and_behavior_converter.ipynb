{
 "cells": [
  {
   "cell_type": "markdown",
   "id": "e2d03c90-6a0e-4b43-afde-8f5035e8489e",
   "metadata": {},
   "source": [
    "# Begin by importing the necessary packages..."
   ]
  },
  {
   "cell_type": "code",
   "execution_count": 5,
   "id": "36dd0524-fa49-4e32-9301-0aae5bbbb532",
   "metadata": {},
   "outputs": [],
   "source": [
    "from neuroconv import MovieInterface, NWBConverter, SpikeGLXRecordingInterface"
   ]
  },
  {
   "cell_type": "markdown",
   "id": "ad4ec7e5-fb6d-4870-8f44-98d0f5e14d5f",
   "metadata": {},
   "source": [
    "# Setup some file paths to point to example SpikeGLX/Neuropixels data, as well as some behavioral videos...\n",
    "\n",
    "### The default path assumes you are running this notebook on the DANDIHub platform; adjust appropriately if running on a local device"
   ]
  },
  {
   "cell_type": "code",
   "execution_count": 16,
   "id": "203a5529-a77e-4d82-ab90-16d94260baf3",
   "metadata": {},
   "outputs": [],
   "source": [
    "spikeglx_file_path = \"/shared/catalystneuro/ephy_testing_data/spikeglx/Noise4Sam_g0/Noise4Sam_g0_imec0/Noise4Sam_g0_t0.imec0.ap.bin\"\n",
    "video_file_path = \"/shared/catalystneuro/behavior_testing_data/videos/CFR/video_mp4.mp4\"\n",
    "\n",
    "stub_path = \"/home/jovyan/my_example_stubbed_spikeglx_and_behavioral_data.nwb\"\n",
    "nwbfile_path = \"/home/jovyan/my_example_spikeglx_and_behavioral_data.nwb\""
   ]
  },
  {
   "cell_type": "markdown",
   "id": "81a8be53-6265-47c4-b6ad-9f8a6db116e4",
   "metadata": {},
   "source": [
    "# To integrate multiple data streams, we use the NWBConverter"
   ]
  },
  {
   "cell_type": "code",
   "execution_count": 8,
   "id": "abc5f1c7-faba-402c-95cb-21f576084f11",
   "metadata": {},
   "outputs": [],
   "source": [
    "class MyConverter(NWBConverter):\n",
    "    data_interface_classes = dict(\n",
    "        Recording=SpikeGLXRecordingInterface,  # The names of the keys defined here will define how we reference the interfaces of this converter\n",
    "        Movie=MovieInterface,\n",
    "    )"
   ]
  },
  {
   "cell_type": "code",
   "execution_count": 12,
   "id": "692a59b2-1a03-4703-ba97-184dfbc41d29",
   "metadata": {},
   "outputs": [],
   "source": [
    "source_data = dict(\n",
    "    Recording=dict(file_path=spikeglx_file_path),  # The keys here must be the input keyword arguments to the individual interfaces\n",
    "    Movie=dict(file_paths=[video_file_path]),  # Also, file-type inputs will always be named 'file_path'; folders will be 'folder_path'; ordered lists of multiple files will be 'file_path'\n",
    ")"
   ]
  },
  {
   "cell_type": "code",
   "execution_count": 13,
   "id": "5584722e-7ff5-45e6-8bde-494ccf8fffbe",
   "metadata": {},
   "outputs": [
    {
     "name": "stdout",
     "output_type": "stream",
     "text": [
      "Source data is valid!\n"
     ]
    }
   ],
   "source": [
    "my_converter = MyConverter(source_data=source_data)"
   ]
  },
  {
   "cell_type": "markdown",
   "id": "3f9f07a4-64df-4482-99f5-6f3ee8b3248d",
   "metadata": {},
   "source": [
    "# All the previous commands for fetching metadata and running the conversion apply to the converter..."
   ]
  },
  {
   "cell_type": "code",
   "execution_count": 14,
   "id": "e08a4274-4be4-434d-8cc5-954f9a9a6ab9",
   "metadata": {},
   "outputs": [],
   "source": [
    "metadata = my_converter.get_metadata()"
   ]
  },
  {
   "cell_type": "code",
   "execution_count": 15,
   "id": "c9d089df-ea1a-4756-b9ab-903fd073c419",
   "metadata": {},
   "outputs": [
    {
     "data": {
      "text/plain": [
       "{'NWBFile': {'session_description': 'no description',\n",
       "  'identifier': 'd65af50d-19de-4fd9-8084-de0ff02cfcd5',\n",
       "  'session_start_time': '2020-11-03 10:35:10'},\n",
       " 'Ecephys': {'Device': [{'name': 'Neuropixel-Imec',\n",
       "    'description': '{\"probe_type\": \"0\", \"probe_type_description\": \"NP1.0\", \"flex_part_number\": \"NP2_FLEX_0\", \"connected_base_station_part_number\": \"NP2_QBSC_00\"}',\n",
       "    'manufacturer': 'Imec'}],\n",
       "  'ElectrodeGroup': [{'name': 's0',\n",
       "    'description': 'a group representing shank s0',\n",
       "    'location': 'unknown',\n",
       "    'device': 'Neuropixel-Imec'}],\n",
       "  'Electrodes': [{'name': 'shank_electrode_number',\n",
       "    'description': '0-indexed channel within a shank.'},\n",
       "   {'name': 'group_name',\n",
       "    'description': 'Name of the ElectrodeGroup this electrode is a part of.'},\n",
       "   {'name': 'contact_shapes', 'description': 'The shape of the electrode'}],\n",
       "  'ElectricalSeries_raw': {'name': 'ElectricalSeries_raw',\n",
       "   'description': 'Raw acquisition traces for the high-pass (ap) SpikeGLX data.'}},\n",
       " 'Behavior': {'Movies': [{'name': 'Video: video_mp4',\n",
       "    'description': 'Video recorded by camera.',\n",
       "    'unit': 'Frames'}]}}"
      ]
     },
     "execution_count": 15,
     "metadata": {},
     "output_type": "execute_result"
    }
   ],
   "source": [
    "metadata"
   ]
  },
  {
   "cell_type": "markdown",
   "id": "3f299b4e-00e7-4852-b19d-7e30e4f1b177",
   "metadata": {},
   "source": [
    "# ... though interface-level conversion options like stub_test need to be specified..."
   ]
  },
  {
   "cell_type": "code",
   "execution_count": 26,
   "id": "826832a8-5804-4840-82e6-0be0aa09d77c",
   "metadata": {},
   "outputs": [
    {
     "name": "stdout",
     "output_type": "stream",
     "text": [
      "Metadata is valid!\n",
      "conversion_options is valid!\n"
     ]
    },
    {
     "name": "stderr",
     "output_type": "stream",
     "text": [
      "retrieving timestamps: 100%|██████████| 152/152 [00:00<00:00, 1660.61it/s]\n"
     ]
    },
    {
     "name": "stdout",
     "output_type": "stream",
     "text": [
      "NWB file saved at /home/jovyan/my_example_stubbed_spikeglx_and_behavioral_data.nwb!\n"
     ]
    }
   ],
   "source": [
    "nwbfile = my_converter.run_conversion(\n",
    "    nwbfile_path=stub_path,\n",
    "    metadata=metadata,\n",
    "    conversion_options=dict(\n",
    "        Recording=dict(stub_test=True),\n",
    "        Movie=dict(stub_test=True),\n",
    "    )\n",
    ")"
   ]
  },
  {
   "cell_type": "markdown",
   "id": "202791f5-ef1e-4fd4-8faf-592b29500423",
   "metadata": {},
   "source": [
    "# ...the in-memory copy of the NWBFile is returned for easy access..."
   ]
  },
  {
   "cell_type": "code",
   "execution_count": 29,
   "id": "51532168-d800-4e85-9d4b-ad3f98ea8b2f",
   "metadata": {},
   "outputs": [
    {
     "name": "stdout",
     "output_type": "stream",
     "text": [
      "root pynwb.file.NWBFile at 0x139963973289488\n",
      "Fields:\n",
      "  acquisition: {\n",
      "    ElectricalSeries_raw <class 'pynwb.ecephys.ElectricalSeries'>,\n",
      "    Video: video_mp4 <class 'pynwb.image.ImageSeries'>\n",
      "  }\n",
      "  devices: {\n",
      "    Neuropixel-Imec <class 'pynwb.device.Device'>\n",
      "  }\n",
      "  electrode_groups: {\n",
      "    s0 <class 'pynwb.ecephys.ElectrodeGroup'>\n",
      "  }\n",
      "  electrodes: electrodes <class 'hdmf.common.table.DynamicTable'>\n",
      "  file_create_date: [datetime.datetime(2022, 7, 21, 18, 48, 38, 93481, tzinfo=tzlocal())]\n",
      "  identifier: d65af50d-19de-4fd9-8084-de0ff02cfcd5\n",
      "  session_description: no description\n",
      "  session_start_time: 2020-11-03 10:35:10+00:00\n",
      "  timestamps_reference_time: 2020-11-03 10:35:10+00:00\n",
      "\n",
      "Video: video_mp4 pynwb.image.ImageSeries at 0x139963972735376\n",
      "Fields:\n",
      "  comments: no comments\n",
      "  conversion: 1.0\n",
      "  description: Video recorded by camera.\n",
      "  external_file: ['/shared/catalystneuro/behavior_testing_data/videos/CFR/video_mp4.mp4']\n",
      "  format: external\n",
      "  offset: 0.0\n",
      "  rate: 149.99250037498123\n",
      "  resolution: -1.0\n",
      "  starting_frame: [0]\n",
      "  starting_time: 0.0\n",
      "  starting_time_unit: seconds\n",
      "  unit: Frames\n",
      "\n"
     ]
    }
   ],
   "source": [
    "print(nwbfile)\n",
    "print(nwbfile.acquisition[\"Video: video_mp4\"])"
   ]
  },
  {
   "cell_type": "markdown",
   "id": "a10484fd-3b69-4d41-ae59-caf3f53ea87f",
   "metadata": {},
   "source": [
    "# ... now we can run the entire conversion!"
   ]
  },
  {
   "cell_type": "code",
   "execution_count": 33,
   "id": "37ec1ece-7d83-4449-b708-64feb65da79c",
   "metadata": {},
   "outputs": [
    {
     "name": "stdout",
     "output_type": "stream",
     "text": [
      "Metadata is valid!\n",
      "conversion_options is valid!\n"
     ]
    },
    {
     "name": "stderr",
     "output_type": "stream",
     "text": [
      "retrieving timestamps: 100%|██████████| 152/152 [00:00<00:00, 1637.92it/s]\n"
     ]
    },
    {
     "name": "stdout",
     "output_type": "stream",
     "text": [
      "NWB file saved at /home/jovyan/my_example_spikeglx_and_behavioral_data.nwb!\n"
     ]
    }
   ],
   "source": [
    "_ = my_converter.run_conversion(nwbfile_path=nwbfile_path, metadata=metadata)"
   ]
  },
  {
   "cell_type": "code",
   "execution_count": null,
   "id": "1df150c8-532e-4d31-9eb7-02cef78c7212",
   "metadata": {},
   "outputs": [],
   "source": []
  },
  {
   "cell_type": "markdown",
   "id": "6753e4e8-a91f-4706-86cb-7fd9629fa013",
   "metadata": {},
   "source": [
    "# Bonus: external files and movies\n",
    "\n",
    "### This will come up in more detail tomorrow during the DANDI usage tutorial, but it's worth pointing out here...\n",
    "### Movie contents can be written directly to NWBFiles, but compression is often better in the original format...\n",
    "### Thus we give users the choice of pointing to an 'external_file'...\n",
    "### However, there is one very important Best Practice to follow when sharing (or uploading) NWBFiles containing external links - the file path to the video should be written as a relative path (not an absolute one) and the NWBFile should generally be written/stored adjacent to the external reference\n",
    "\n",
    "### The MovieInterface from NeuroConv supports sophisticated writing tools for copying the data from a common video format (.avi, .mp4, etc.), but uses 'external_file' by default."
   ]
  },
  {
   "cell_type": "code",
   "execution_count": null,
   "id": "f964d331-6e56-4076-91c7-cafd8e593900",
   "metadata": {},
   "outputs": [],
   "source": []
  }
 ],
 "metadata": {
  "kernelspec": {
   "display_name": "Python 3 (ipykernel)",
   "language": "python",
   "name": "python3"
  },
  "language_info": {
   "codemirror_mode": {
    "name": "ipython",
    "version": 3
   },
   "file_extension": ".py",
   "mimetype": "text/x-python",
   "name": "python",
   "nbconvert_exporter": "python",
   "pygments_lexer": "ipython3",
   "version": "3.9.10"
  }
 },
 "nbformat": 4,
 "nbformat_minor": 5
}
